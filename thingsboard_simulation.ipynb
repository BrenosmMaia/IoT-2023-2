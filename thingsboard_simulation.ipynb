{
  "cells": [
    {
      "cell_type": "code",
      "execution_count": null,
      "metadata": {
        "colab": {
          "base_uri": "https://localhost:8080/"
        },
        "id": "TsFepDLhc4tY",
        "outputId": "6450e715-d94d-48bd-c2f3-2f1906c9383b"
      },
      "outputs": [
        {
          "name": "stdout",
          "output_type": "stream",
          "text": [
            "Collecting paho-mqtt\n",
            "  Downloading paho-mqtt-1.6.1.tar.gz (99 kB)\n",
            "\u001b[?25l     \u001b[90m━━━━━━━━━━━━━━━━━━━━━━━━━━━━━━━━━━━━━━━━\u001b[0m \u001b[32m0.0/99.4 kB\u001b[0m \u001b[31m?\u001b[0m eta \u001b[36m-:--:--\u001b[0m\r\u001b[2K     \u001b[90m━━━━━━━━━━━━━━━━━━━━━━━━━━━━━━━━━━━━━━━━\u001b[0m \u001b[32m99.4/99.4 kB\u001b[0m \u001b[31m3.8 MB/s\u001b[0m eta \u001b[36m0:00:00\u001b[0m\n",
            "\u001b[?25h  Preparing metadata (setup.py) ... \u001b[?25l\u001b[?25hdone\n",
            "Building wheels for collected packages: paho-mqtt\n",
            "  Building wheel for paho-mqtt (setup.py) ... \u001b[?25l\u001b[?25hdone\n",
            "  Created wheel for paho-mqtt: filename=paho_mqtt-1.6.1-py3-none-any.whl size=62117 sha256=396d2aae0731561326dad7afc1b9fe22953ab58900df520b3b33f9d708789718\n",
            "  Stored in directory: /root/.cache/pip/wheels/8b/bb/0c/79444d1dee20324d442856979b5b519b48828b0bd3d05df84a\n",
            "Successfully built paho-mqtt\n",
            "Installing collected packages: paho-mqtt\n",
            "Successfully installed paho-mqtt-1.6.1\n"
          ]
        }
      ],
      "source": [
        "!pip install paho-mqtt"
      ]
    },
    {
      "cell_type": "code",
      "execution_count": null,
      "metadata": {
        "id": "2ihb8mptc6JL"
      },
      "outputs": [],
      "source": [
        "import paho.mqtt.client as paho\n",
        "import json\n",
        "import random\n",
        "import time\n",
        "import threading"
      ]
    },
    {
      "cell_type": "code",
      "execution_count": null,
      "metadata": {
        "id": "mu8EZs52ited"
      },
      "outputs": [],
      "source": [
        "controls = {\n",
        "        \"sala_1\": {\n",
        "            \"temperature_device\": [\"2DREgrACfrXggP1usqWq\", True],\n",
        "            \"lux_device\": [\"1YcqNNH8kUlQgr1SHGQ0\", False],\n",
        "        },\n",
        "        \"sala_2\": {\n",
        "            \"temperature_device\": [\"9iKswlE9JNCON7QKnjDm\", True],\n",
        "            \"lux_device\": [\"27ZefQdr5NNuYj9D2Z92\", False],\n",
        "        },\n",
        "        \"sala_3\": {\n",
        "            \"temperature_device\": [\"bXmC72VicQnUdBUXs5Bd\", True],\n",
        "            \"lux_device\": [\"NzGmBgmQiE6UkpGLxKxE\", False],\n",
        "        },\n",
        "        \"all\": {\n",
        "            \"period_sleep\": [\"BpSgDLnMD0HtpqC9l5Ch\", 5]\n",
        "        }\n",
        "    }\n",
        "\n",
        "def config_device(broker, port, device_id, ACCESS_TOKEN):\n",
        "    client = paho.Client(client_id=device_id)\n",
        "    client.on_publish = on_publish\n",
        "    client.username_pw_set(ACCESS_TOKEN)\n",
        "    client.connect(broker, port, keepalive=60)\n",
        "    return client\n",
        "\n",
        "def on_publish(client, userdata, result):\n",
        "    print(\"\\ndata published to thingsboard\")\n",
        "\n",
        "def send_data(client, telemetry_data):\n",
        "    payload = json.dumps(telemetry_data)\n",
        "    ret = client.publish(\"v1/devices/me/telemetry\", payload)\n",
        "    print(payload)\n",
        "\n",
        "def generate_temperature(control):\n",
        "    if control:\n",
        "      return round(random.uniform(18, 23))\n",
        "    else:\n",
        "      return round(random.uniform(24, 35))\n",
        "\n",
        "def generate_decibels():\n",
        "    return round(random.uniform(50, 93))\n",
        "\n",
        "def generate_lux(control):\n",
        "    if control:\n",
        "       return round(random.uniform(600, 700))\n",
        "    else:\n",
        "      return round(random.uniform(300, 500))\n",
        "\n",
        "def create_clients(devices_tokens, broker, port):\n",
        "    clients = {}\n",
        "    for room, devices in devices_tokens.items():\n",
        "        clients[room] = {}\n",
        "        for device_type, token in devices.items():\n",
        "            device_id = f\"{room}_{device_type}\"\n",
        "            clients[room][device_type] = config_device(broker, port, device_id, token)\n",
        "\n",
        "    return clients\n",
        "\n",
        "class RpcClient:\n",
        "    def __init__(self, token, broker, port, room , device_type):\n",
        "        self.client = paho.Client()\n",
        "        self.client.on_connect = self.on_connect\n",
        "        self.client.on_message = self.on_message\n",
        "        self.client.username_pw_set(token)\n",
        "        self.client.connect(broker, port, 60)\n",
        "        self.room = room\n",
        "        self.device_type = device_type\n",
        "\n",
        "    def on_connect(self, client, userdata, flags, rc):\n",
        "        client.subscribe('v1/devices/me/rpc/request/+')\n",
        "\n",
        "    def on_message(self, client, userdata, msg):\n",
        "        global controls\n",
        "\n",
        "        if msg.topic.startswith('v1/devices/me/rpc/request/'):\n",
        "            requestId = msg.topic[len('v1/devices/me/rpc/request/'):len(msg.topic)]\n",
        "            data = json.loads(msg.payload)\n",
        "            if data['method'] == 'setValue':\n",
        "                params = data['params']\n",
        "                controls[self.room][self.device_type][1] = params\n",
        "                print(f\"\\n***RPC RECEBIDO: {params}, Sala: {self.room}, Dispositivo: {self.device_type}***\")\n",
        "\n",
        "    def start(self):\n",
        "        self.client.loop_start()\n",
        "\n",
        "    def stop(self):\n",
        "        self.client.disconnect()\n",
        "\n",
        "def send_loop(clients, controls):\n",
        "    for i in range(1000):\n",
        "        print(f\"\\n***ITERACAO {i}***\")\n",
        "        print(f\"***SLEEP {controls['all']['period_sleep'][1]}***\")\n",
        "        for sala in ['sala_1', 'sala_2', 'sala_3']:\n",
        "            send_data(clients[sala]['temperature_device'], {\"temperature\": generate_temperature(controls[sala][\"temperature_device\"][1])})\n",
        "            send_data(clients[sala]['decibels_device'], {\"dB\": generate_decibels()})\n",
        "            send_data(clients[sala]['lux_device'], {\"lx\": generate_lux(controls[sala][\"lux_device\"][1])})\n",
        "        time.sleep(controls['all']['period_sleep'][1])\n",
        "\n",
        "def main():\n",
        "    broker = 'dev-thingsboard.lcc.ime.uerj.br'\n",
        "    port = 1883\n",
        "\n",
        "    devices_tokens = {\n",
        "        \"sala_1\": {\n",
        "            \"temperature_device\": \"43eKWGMm7vInTy3AoMrP\",\n",
        "            \"decibels_device\": \"RTNDQhhS01j4PhcEhS5k\",\n",
        "            \"lux_device\": \"7e3YBJjqJSCbi3PvUon0\",\n",
        "        },\n",
        "        \"sala_2\": {\n",
        "            \"temperature_device\": \"mVvhBYFmbZQhRxSJdtxm\",\n",
        "            \"decibels_device\": \"G0ptqGQOLrcl1uopcIfR\",\n",
        "            \"lux_device\": \"KC0Nh5OFi1DSr125Uans\",\n",
        "        },\n",
        "        \"sala_3\": {\n",
        "            \"temperature_device\": \"Gp9Z3HlGX2w0awNLN8wh\",\n",
        "            \"decibels_device\": \"neR8yoOviKSosM4K81O3\",\n",
        "            \"lux_device\": \"g94p1vlviFQ8fpGtS2tz\",\n",
        "        }\n",
        "    }\n",
        "\n",
        "    clients = create_clients(devices_tokens, broker, port)\n",
        "    rpc_clients = []\n",
        "\n",
        "    for sala, devices in controls.items():\n",
        "      for device, (id, _) in devices.items():\n",
        "        if id != \"\":\n",
        "            rpc_clients.append(RpcClient(id, broker, port, sala, device))\n",
        "\n",
        "    sleep_period_thread = RpcClient(controls[\"all\"][\"period_sleep\"][0], broker, port, \"all\", \"period_sleep\")\n",
        "    sleep_period_thread.start()\n",
        "\n",
        "    send_thread = threading.Thread(target=send_loop, args=(clients, controls))\n",
        "    send_thread.start()\n",
        "\n",
        "    try:\n",
        "        for rpc_client in rpc_clients:\n",
        "            threading.Thread(target=rpc_client.start).start()\n",
        "        while True:\n",
        "            pass\n",
        "\n",
        "    except KeyboardInterrupt:\n",
        "        for rpc_client in rpc_clients:\n",
        "            rpc_client.stop()\n",
        "        sleep_period_thread.stop()"
      ]
    },
    {
      "cell_type": "code",
      "execution_count": null,
      "metadata": {
        "colab": {
          "background_save": true
        },
        "id": "suKMisiUsZ2T"
      },
      "outputs": [],
      "source": [
        "main()"
      ]
    }
  ],
  "metadata": {
    "colab": {
      "provenance": []
    },
    "kernelspec": {
      "display_name": "Python 3",
      "name": "python3"
    },
    "language_info": {
      "name": "python"
    }
  },
  "nbformat": 4,
  "nbformat_minor": 0
}